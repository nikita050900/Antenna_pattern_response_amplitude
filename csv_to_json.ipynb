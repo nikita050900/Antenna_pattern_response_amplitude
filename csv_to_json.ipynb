{
 "cells": [
  {
   "cell_type": "code",
   "execution_count": 23,
   "id": "d073a760",
   "metadata": {},
   "outputs": [],
   "source": [
    "import json\n",
    "import numpy as np\n",
    "import csv"
   ]
  },
  {
   "cell_type": "code",
   "execution_count": 31,
   "id": "f0349f44",
   "metadata": {},
   "outputs": [
    {
     "name": "stdout",
     "output_type": "stream",
     "text": [
      "{'J0023+0923': 0.585, 'J0030+0451': 0.491, 'J034044130': 2.24, 'J0406+3039': 0.416, 'J0437-4715': 0.081, 'J050940856': 1.319, 'J0557+1551': 1.402, 'J0605+3757': 1.778, 'J0610-2100': 1.319, 'J0613-0200': 0.654, 'J0614-3329': 1.044, 'J063645128': 0.596, 'J0645+5158': 0.823, 'J0709+0458': 3.105, 'J0740+6620': 0.792, 'J0931-1902': 1.84, 'J1012+5307': 0.781, 'J1012-4235': 2.081, 'J1022+1001': 0.428, 'J1024-0719': 1.132, 'J1125+7819': 2.175, 'J1312+0051': 2.012, 'J1453+1902': 2.426, 'J1455-3330': 2.1, 'J1600-3053': 0.253, 'J1614-2230': 0.677, 'J1630+3734': 1.08, 'J1640+2224': 0.428, 'J1643-1224': 0.567, 'J1705-1903': 0.192, 'J1713+0747': 0.089, 'J1719-1438': 1.474, 'J1730-2304': 1.187, 'J1738+0333': 0.563, 'J1741+1351': 0.338, 'J1744-1134': 0.258, 'J1745+1017': 0.703, 'J1747-4036': 1.285, 'J1751-2857': 1.824, 'J1802-2124': 0.978, 'J1811-2405': 0.657, 'J1832-0836': 0.585, 'J1843-1113': 0.58, 'J1853+1303': 0.691, 'B1855409': 0.241, 'J1903+0327': 0.561, 'J1909-3744': 0.131, 'J191041256': 0.406, 'J1911+1347': 0.192, 'J1918-0642': 1.0, 'J1923+2515': 1.055, 'B1937+21': 0.015, 'J1944-0907': 0.991, 'J1946+3417': 0.507, 'B1953+29': 0.948, 'J2010-1323': 1.069, 'J2017+0603': 0.464, 'J2033+1734': 1.377, 'J2043+1711': 0.299, 'J2124-3358': 1.656, 'J2145-0750': 0.688, 'J2214+3000': 0.844, 'J2229-2643': 1.273, 'J2234+0611': 0.271, 'J2234+0944': 0.444, 'J2302+4442': 2.569, 'J2317+1439': 0.714, 'J2322+2057': 1.148}\n"
     ]
    }
   ],
   "source": [
    "with open('/scratch/na00078/15yr_data/15yr_toas.csv', mode='r') as infile:\n",
    "    reader = csv.reader(infile)\n",
    "    with open('/scratch/na00078/15yr_data/15yr_rms_dictionary.csv', mode='w') as outfile:\n",
    "        writer = csv.writer(outfile)\n",
    "        mydict = {rows[0]:float(rows[1]) for rows in reader}\n",
    "        print(mydict)"
   ]
  },
  {
   "cell_type": "code",
   "execution_count": 33,
   "id": "85b33105",
   "metadata": {},
   "outputs": [
    {
     "data": {
      "text/plain": [
       "dict"
      ]
     },
     "execution_count": 33,
     "metadata": {},
     "output_type": "execute_result"
    }
   ],
   "source": [
    "type(mydict)"
   ]
  },
  {
   "cell_type": "code",
   "execution_count": 34,
   "id": "ea11f45e",
   "metadata": {},
   "outputs": [],
   "source": [
    "with open(\"/scratch/na00078/15yr_data/15yr_rms.json\", \"w\") as f:\n",
    "    json.dump(mydict, f, indent=4)"
   ]
  },
  {
   "cell_type": "code",
   "execution_count": null,
   "id": "5bf174fe",
   "metadata": {},
   "outputs": [],
   "source": []
  }
 ],
 "metadata": {
  "kernelspec": {
   "display_name": "Python 3",
   "language": "python",
   "name": "python3"
  },
  "language_info": {
   "codemirror_mode": {
    "name": "ipython",
    "version": 3
   },
   "file_extension": ".py",
   "mimetype": "text/x-python",
   "name": "python",
   "nbconvert_exporter": "python",
   "pygments_lexer": "ipython3",
   "version": "3.9.12"
  }
 },
 "nbformat": 4,
 "nbformat_minor": 5
}
